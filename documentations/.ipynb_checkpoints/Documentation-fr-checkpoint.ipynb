{
 "cells": [
  {
   "cell_type": "markdown",
   "metadata": {},
   "source": [
    "# Comment utiliser la bibliothèques EIM"
   ]
  },
  {
   "cell_type": "markdown",
   "metadata": {},
   "source": [
    "## import"
   ]
  },
  {
   "cell_type": "markdown",
   "metadata": {},
   "source": [
    "### installation de la librairie ( à faire que si la librairie n'est pas déja installé)"
   ]
  },
  {
   "cell_type": "code",
   "execution_count": null,
   "metadata": {},
   "outputs": [],
   "source": [
    "!git https://github.com/samsja/eim.git"
   ]
  },
  {
   "cell_type": "code",
   "execution_count": null,
   "metadata": {},
   "outputs": [],
   "source": [
    "!pip install src/packages/dist/eim_samsja_faycal-0.0.1-py3-none-any.wh"
   ]
  },
  {
   "cell_type": "markdown",
   "metadata": {},
   "source": [
    "### autre import"
   ]
  },
  {
   "cell_type": "code",
   "execution_count": 1,
   "metadata": {},
   "outputs": [],
   "source": [
    "from eim import Eim"
   ]
  },
  {
   "cell_type": "code",
   "execution_count": 2,
   "metadata": {},
   "outputs": [],
   "source": [
    "import matplotlib.pyplot as plt\n",
    "import numpy as np\n",
    "import torch"
   ]
  },
  {
   "cell_type": "markdown",
   "metadata": {},
   "source": [
    "## initilisation de la classes"
   ]
  },
  {
   "cell_type": "markdown",
   "metadata": {},
   "source": [
    "EIM est un algorithme de réduction de dimensionalité applicable à des jeux de données"
   ]
  },
  {
   "cell_type": "markdown",
   "metadata": {},
   "source": [
    "on commence par géneré un jeu de données pour l'exemple"
   ]
  },
  {
   "cell_type": "code",
   "execution_count": 3,
   "metadata": {},
   "outputs": [],
   "source": [
    "def f(x,mu):\n",
    "    return np.array([np.cos(mu*x),np.sin(x/mu),np.exp(x/mu)]).T\n",
    "N=200\n",
    "x_values = np.linspace(1,10,num=N)\n",
    "Nmu=300\n",
    "M = np.linspace(1,10,Nmu)\n",
    "\n",
    "Z = np.zeros((M.shape[0],x_values.shape[0],3))\n",
    "\n",
    "for i in range(M.shape[0]):\n",
    "    Z[i] = np.array(f(x_values,M[i]))"
   ]
  },
  {
   "cell_type": "code",
   "execution_count": 4,
   "metadata": {},
   "outputs": [
    {
     "data": {
      "text/plain": [
       "(300, 200, 3)"
      ]
     },
     "execution_count": 4,
     "metadata": {},
     "output_type": "execute_result"
    }
   ],
   "source": [
    "Z.shape"
   ]
  },
  {
   "cell_type": "markdown",
   "metadata": {},
   "source": [
    "Pour utiliser eim il faut un jeu de données de taille (M,N,D) oû:\n",
    "\n",
    "* M est le nombre d'entrée, en reprenant les termes théroqiues M est la dimension de l'espace des paramètres : $\\mu$ dans $f(\\cdot,\\mu)$\n",
    "\n",
    "* N est le nombre de points dans le cadre desfonctions oû le nombre de colones d'un dataframe\n",
    "\n",
    "* D est la dimension de l'espace d'arrivée des fonctions, pour un dataframe cette valeur est géneralement 1"
   ]
  },
  {
   "cell_type": "code",
   "execution_count": 5,
   "metadata": {},
   "outputs": [],
   "source": [
    "ev = Eim(Z,from_numpy=True)"
   ]
  },
  {
   "cell_type": "markdown",
   "metadata": {},
   "source": [
    "Il faut garder en tête que notre algorithme à été codé (dans la version optim) avec Pytorch comme backend, et que donc les entité que l'on manipule ne sont pas des Ndarray de numpy mais des Tensors de Torch. Heuresement les deux structures communent très bien et il est facile de passer d'une à l'autre (sans duplication des données en mémoire)\n",
    "\n",
    "la méthode suivante est donc équivalente à la précédente"
   ]
  },
  {
   "cell_type": "code",
   "execution_count": 6,
   "metadata": {},
   "outputs": [],
   "source": [
    "Z_torch = torch.from_numpy(Z)\n",
    "ev = Eim(Z_torch)"
   ]
  },
  {
   "cell_type": "markdown",
   "metadata": {},
   "source": [
    "On peut aussi passer une matrice (N,M) à eim, il castera automatiquement vers un tenseur (N,M,1)"
   ]
  },
  {
   "cell_type": "code",
   "execution_count": 7,
   "metadata": {},
   "outputs": [
    {
     "data": {
      "text/plain": [
       "torch.Size([4, 5, 1])"
      ]
     },
     "execution_count": 7,
     "metadata": {},
     "output_type": "execute_result"
    }
   ],
   "source": [
    "Z2 = np.zeros((4,5))\n",
    "ev2 = Eim(Z2,from_numpy=True)\n",
    "ev2.Z.shape"
   ]
  },
  {
   "cell_type": "markdown",
   "metadata": {},
   "source": [
    "## Entrainement de l'algo"
   ]
  },
  {
   "cell_type": "markdown",
   "metadata": {},
   "source": [
    "La méthode principale pour entrainer l'algo est : reach_precision()"
   ]
  },
  {
   "cell_type": "code",
   "execution_count": 8,
   "metadata": {},
   "outputs": [
    {
     "name": "stderr",
     "output_type": "stream",
     "text": [
      "0.399786588871326 error in 0.003649473190307617 s :  18%|█▊        | 35/200 [00:00<00:00, 250.73it/s]   \n"
     ]
    },
    {
     "name": "stdout",
     "output_type": "stream",
     "text": [
      "========================= \n",
      " we have a 35-kolmogorov-width with a final error of 0.06469335928079545, dimensionality reduction : 0.8833333333333333  \n",
      "=========================\n"
     ]
    },
    {
     "data": {
      "image/png": "[encoded data removed]",
      "text/plain": [
       "<Figure size 432x288 with 1 Axes>"
      ]
     },
     "metadata": {
      "needs_background": "light"
     },
     "output_type": "display_data"
    }
   ],
   "source": [
    "ev.reach_precision(epsilon=1e-1)"
   ]
  },
  {
   "cell_type": "markdown",
   "metadata": {},
   "source": [
    "Vous pouvez aussi appelé cette méthode en précisant le nombre d'itération max"
   ]
  },
  {
   "cell_type": "code",
   "execution_count": 9,
   "metadata": {
    "scrolled": true
   },
   "outputs": [
    {
     "name": "stderr",
     "output_type": "stream",
     "text": [
      "22026.465794806718 error in 0.0013828277587890625 s :  50%|█████     | 1/2 [00:00<00:00, 251.91it/s]  "
     ]
    },
    {
     "name": "stdout",
     "output_type": "stream",
     "text": [
      "========================= \n",
      " we have a 1-kolmogorov-width with a final error of 314.3121149695935, dimensionality reduction : 0.9966666666666667  \n",
      "=========================\n"
     ]
    },
    {
     "name": "stderr",
     "output_type": "stream",
     "text": [
      "\n"
     ]
    }
   ],
   "source": [
    "ev.reach_precision(epsilon=1e-1,nb_iter=2,plot=False)"
   ]
  },
  {
   "cell_type": "markdown",
   "metadata": {},
   "source": [
    "on peut ensuite faire de nouvelle étape sans repartir à Zéro avec le paramètre reset à faux"
   ]
  },
  {
   "cell_type": "code",
   "execution_count": 10,
   "metadata": {
    "scrolled": true
   },
   "outputs": [
    {
     "name": "stderr",
     "output_type": "stream",
     "text": [
      "15.374218480568075 error in 0.003846406936645508 s :  50%|█████     | 1/2 [00:00<00:00, 273.80it/s]  "
     ]
    },
    {
     "name": "stdout",
     "output_type": "stream",
     "text": [
      "========================= \n",
      " we have a 1-kolmogorov-width with a final error of 1.905004803126212, dimensionality reduction : 0.9966666666666667  \n",
      "=========================\n"
     ]
    },
    {
     "name": "stderr",
     "output_type": "stream",
     "text": [
      "\n"
     ]
    }
   ],
   "source": [
    "ev.reach_precision(epsilon=1e-1,nb_iter=2,plot=False,reset=False)"
   ]
  },
  {
   "cell_type": "markdown",
   "metadata": {},
   "source": [
    "Pour accéder à la documentation utiliser la commande ipython suivante "
   ]
  },
  {
   "cell_type": "code",
   "execution_count": 11,
   "metadata": {},
   "outputs": [],
   "source": [
    "ev.reach_precision?"
   ]
  },
  {
   "cell_type": "markdown",
   "metadata": {},
   "source": [
    "## Uitliser les coefficients de projection"
   ]
  },
  {
   "cell_type": "markdown",
   "metadata": {},
   "source": [
    "Vous pouvez génerer les alphas pour n'importe quel autre donées, c'est à dire projeter des nouvelles de données dans l'espace reduit eim"
   ]
  },
  {
   "cell_type": "code",
   "execution_count": 12,
   "metadata": {},
   "outputs": [],
   "source": [
    "alphas = ev.compute_alpha(ev.m,ev.Z)"
   ]
  },
  {
   "cell_type": "markdown",
   "metadata": {},
   "source": [
    "On notera qu'il y a grand intéret à utiliser un m plus petit que self.m, en effet on peut vouloir calculer les bases de eim pour un précision donner, et observer qu'il ya un palier juste avant de descendre en dessous de la précision souhaité, alors on pourra choisir une précision un tout petit plus petite mais avoir une base eim beaucoup plus petite"
   ]
  },
  {
   "cell_type": "markdown",
   "metadata": {},
   "source": [
    "vous pouvez utiliser ces coefficients alphas (ou d'autre) pour calculer la projection de le m-base géneré par eim"
   ]
  },
  {
   "cell_type": "code",
   "execution_count": 13,
   "metadata": {
    "scrolled": true
   },
   "outputs": [
    {
     "data": {
      "text/plain": [
       "torch.Size([300, 200, 3])"
      ]
     },
     "execution_count": 13,
     "metadata": {},
     "output_type": "execute_result"
    }
   ],
   "source": [
    "ev.project_with_alpha(alphas).shape"
   ]
  },
  {
   "cell_type": "markdown",
   "metadata": {},
   "source": [
    "## Sauver et charger un modèle"
   ]
  },
  {
   "cell_type": "markdown",
   "metadata": {},
   "source": [
    "Vous pouvez biensure sauver et charger un modèle"
   ]
  },
  {
   "cell_type": "code",
   "execution_count": 14,
   "metadata": {},
   "outputs": [],
   "source": [
    "ev.save_model(\"../data/model/test.model\")"
   ]
  },
  {
   "cell_type": "markdown",
   "metadata": {},
   "source": [
    "on peut ensuite charger le model dans un nouveau object de la classe eim_vectorial_optim ( ou dans le même mais c'est rarement utile)"
   ]
  },
  {
   "cell_type": "code",
   "execution_count": 15,
   "metadata": {},
   "outputs": [],
   "source": [
    "ev_load = Eim(None,load=True)"
   ]
  },
  {
   "cell_type": "code",
   "execution_count": 16,
   "metadata": {},
   "outputs": [],
   "source": [
    "ev_load.load_model(\"../data/model/test.model\")"
   ]
  },
  {
   "cell_type": "markdown",
   "metadata": {},
   "source": [
    "on peut vérifier que ev et ev_load on les mêmes paramètres"
   ]
  },
  {
   "cell_type": "code",
   "execution_count": 17,
   "metadata": {
    "scrolled": true
   },
   "outputs": [
    {
     "data": {
      "text/plain": [
       "(tensor(True, device='cuda:0'),\n",
       " tensor(True),\n",
       " tensor(True),\n",
       " tensor(True),\n",
       " tensor(True))"
      ]
     },
     "execution_count": 17,
     "metadata": {},
     "output_type": "execute_result"
    }
   ],
   "source": [
    "(ev_load.Q_tab == ev.Q_tab).all() ,(ev_load.x_magics == ev.x_magics).all(),(ev_load.j_magics == ev.j_magics).all(),(ev_load.x_magics == ev.x_magics).all(),(ev_load.mu_magics == ev.mu_magics).all()"
   ]
  }
 ],
 "metadata": {
  "kernelspec": {
   "display_name": "Python 3",
   "language": "python",
   "name": "python3"
  },
  "language_info": {
   "codemirror_mode": {
    "name": "ipython",
    "version": 3
   },
   "file_extension": ".py",
   "mimetype": "text/x-python",
   "name": "python",
   "nbconvert_exporter": "python",
   "pygments_lexer": "ipython3",
   "version": "3.8.5"
  }
 },
 "nbformat": 4,
 "nbformat_minor": 4
}
